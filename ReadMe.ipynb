{
 "cells": [
  {
   "cell_type": "markdown",
   "metadata": {},
   "source": [
    "# ETL Project"
   ]
  },
  {
   "cell_type": "markdown",
   "metadata": {},
   "source": [
    "### 1) Extract"
   ]
  },
  {
   "cell_type": "markdown",
   "metadata": {},
   "source": [
    "- Kaggle: Netflix content https://www.kaggle.com/shivamb/netflix-shows\n",
    "    - Data format: CSV\n",
    "    - Initial columns: title, type, director, cast, country, date_added, release_year, rating, duration, listed_in"
   ]
  },
  {
   "cell_type": "markdown",
   "metadata": {},
   "source": [
    "- IMDB: Netflix Original Series (ranked) \n",
    "    - https://www.imdb.com/list/ls063868333/\n",
    "    - Scrape → DataFrame → CSV\n",
    "        - BeautifulSoup, Splinter\n",
    "    - Data scraped: title, year, rating\n",
    "        - Rating = x/10"
   ]
  },
  {
   "cell_type": "markdown",
   "metadata": {},
   "source": [
    "<img src=\"IMDB/imdb.jpg\">"
   ]
  },
  {
   "cell_type": "markdown",
   "metadata": {},
   "source": [
    "- Rotten Tomatoes: 250 Best Movies on Netflix Right Now (May 2020) \n",
    "    - https://editorial.rottentomatoes.com/guide/best-netflix-movies-to-watch-right-now/\n",
    "    - Scrape → DataFrame → CSV\n",
    "        - BeautifulSoup, Splinter\n",
    "    - Data scraped: rank, title, rating\n",
    "        - Rating = %\n"
   ]
  },
  {
   "cell_type": "markdown",
   "metadata": {},
   "source": [
    "<img src=\"Rottentomatoes/RottenTomatoes.jpg\">"
   ]
  },
  {
   "cell_type": "markdown",
   "metadata": {},
   "source": [
    "- Challenges\n",
    "    - RT + IMDB: looping through pages"
   ]
  },
  {
   "cell_type": "markdown",
   "metadata": {},
   "source": [
    "# Transform"
   ]
  },
  {
   "cell_type": "markdown",
   "metadata": {},
   "source": [
    "- Kaggle: Netflix content\n",
    "    - Turn CSV into dataframe\n",
    "    - Choose necessary columns (df.Title, type, director, cast, country, release_year, date_added, rating, genre\n",
    "    - Drop duplicates\n",
    "    - Inner merge with IMDB and RT to include only the shows/movies with ratings\n",
    "   \n",
    "   \n",
    "- IMDB: Netflix OG series https://www.imdb.com/list/ls063868333/\n",
    "    - Merge with RT scores\n",
    "\n",
    "\n",
    "- Rotten Tomatoes: Netflix movies https://editorial.rottentomatoes.com/guide/best-netflix-movies-to-watch-right-now/\n",
    "    - Change scores to be out of 10\n",
    "    - Merge with IMDB scores\n"
   ]
  },
  {
   "cell_type": "code",
   "execution_count": 11,
   "metadata": {},
   "outputs": [
    {
     "data": {
      "text/html": [
       "<div>\n",
       "<style scoped>\n",
       "    .dataframe tbody tr th:only-of-type {\n",
       "        vertical-align: middle;\n",
       "    }\n",
       "\n",
       "    .dataframe tbody tr th {\n",
       "        vertical-align: top;\n",
       "    }\n",
       "\n",
       "    .dataframe thead th {\n",
       "        text-align: right;\n",
       "    }\n",
       "</style>\n",
       "<table border=\"1\" class=\"dataframe\">\n",
       "  <thead>\n",
       "    <tr style=\"text-align: right;\">\n",
       "      <th></th>\n",
       "      <th>title</th>\n",
       "      <th>type</th>\n",
       "      <th>director</th>\n",
       "      <th>cast</th>\n",
       "      <th>country</th>\n",
       "      <th>release_year</th>\n",
       "      <th>date_added</th>\n",
       "      <th>viewer_rating</th>\n",
       "      <th>genre</th>\n",
       "    </tr>\n",
       "  </thead>\n",
       "  <tbody>\n",
       "    <tr>\n",
       "      <td>0</td>\n",
       "      <td>Stripes</td>\n",
       "      <td>Movie</td>\n",
       "      <td>Ivan Reitman</td>\n",
       "      <td>Bill Murray, Harold Ramis, Warren Oates, P.J. ...</td>\n",
       "      <td>United States</td>\n",
       "      <td>1981</td>\n",
       "      <td>September 1, 2019</td>\n",
       "      <td>R</td>\n",
       "      <td>Classic Movies, Comedies, Cult Movies</td>\n",
       "    </tr>\n",
       "    <tr>\n",
       "      <td>1</td>\n",
       "      <td>All About Nina</td>\n",
       "      <td>Movie</td>\n",
       "      <td>Eva Vives</td>\n",
       "      <td>Mary Elizabeth Winstead, Common, Kate del Cast...</td>\n",
       "      <td>United States</td>\n",
       "      <td>2018</td>\n",
       "      <td>March 18, 2019</td>\n",
       "      <td>R</td>\n",
       "      <td>Comedies, Dramas, Independent Movies</td>\n",
       "    </tr>\n",
       "    <tr>\n",
       "      <td>2</td>\n",
       "      <td>The Boy Who Harnessed the Wind</td>\n",
       "      <td>Movie</td>\n",
       "      <td>Chiwetel Ejiofor</td>\n",
       "      <td>Maxwell Simba, Chiwetel Ejiofor, Aïssa Maïga, ...</td>\n",
       "      <td>United Kingdom, Malawi</td>\n",
       "      <td>2019</td>\n",
       "      <td>March 1, 2019</td>\n",
       "      <td>TV-14</td>\n",
       "      <td>Children &amp; Family Movies, Dramas, Independent ...</td>\n",
       "    </tr>\n",
       "    <tr>\n",
       "      <td>3</td>\n",
       "      <td>The Autopsy of Jane Doe</td>\n",
       "      <td>Movie</td>\n",
       "      <td>André Øvredal</td>\n",
       "      <td>Emile Hirsch, Brian Cox, Ophelia Lovibond, Mic...</td>\n",
       "      <td>United Kingdom, United States</td>\n",
       "      <td>2016</td>\n",
       "      <td>December 30, 2018</td>\n",
       "      <td>R</td>\n",
       "      <td>Horror Movies, Independent Movies, Thrillers</td>\n",
       "    </tr>\n",
       "    <tr>\n",
       "      <td>4</td>\n",
       "      <td>Junebug</td>\n",
       "      <td>Movie</td>\n",
       "      <td>Phil Morrison</td>\n",
       "      <td>Amy Adams, Embeth Davidtz, Ben McKenzie, Aless...</td>\n",
       "      <td>United States</td>\n",
       "      <td>2005</td>\n",
       "      <td>March 1, 2019</td>\n",
       "      <td>R</td>\n",
       "      <td>Comedies, Dramas, Independent Movies</td>\n",
       "    </tr>\n",
       "  </tbody>\n",
       "</table>\n",
       "</div>"
      ],
      "text/plain": [
       "                            title   type          director  \\\n",
       "0                         Stripes  Movie      Ivan Reitman   \n",
       "1                  All About Nina  Movie         Eva Vives   \n",
       "2  The Boy Who Harnessed the Wind  Movie  Chiwetel Ejiofor   \n",
       "3         The Autopsy of Jane Doe  Movie     André Øvredal   \n",
       "4                         Junebug  Movie     Phil Morrison   \n",
       "\n",
       "                                                cast  \\\n",
       "0  Bill Murray, Harold Ramis, Warren Oates, P.J. ...   \n",
       "1  Mary Elizabeth Winstead, Common, Kate del Cast...   \n",
       "2  Maxwell Simba, Chiwetel Ejiofor, Aïssa Maïga, ...   \n",
       "3  Emile Hirsch, Brian Cox, Ophelia Lovibond, Mic...   \n",
       "4  Amy Adams, Embeth Davidtz, Ben McKenzie, Aless...   \n",
       "\n",
       "                         country  release_year         date_added  \\\n",
       "0                  United States          1981  September 1, 2019   \n",
       "1                  United States          2018     March 18, 2019   \n",
       "2         United Kingdom, Malawi          2019      March 1, 2019   \n",
       "3  United Kingdom, United States          2016  December 30, 2018   \n",
       "4                  United States          2005      March 1, 2019   \n",
       "\n",
       "  viewer_rating                                              genre  \n",
       "0             R              Classic Movies, Comedies, Cult Movies  \n",
       "1             R               Comedies, Dramas, Independent Movies  \n",
       "2         TV-14  Children & Family Movies, Dramas, Independent ...  \n",
       "3             R       Horror Movies, Independent Movies, Thrillers  \n",
       "4             R               Comedies, Dramas, Independent Movies  "
      ]
     },
     "execution_count": 11,
     "metadata": {},
     "output_type": "execute_result"
    }
   ],
   "source": [
    "# Dependencies\n",
    "import pandas as pd\n",
    "\n",
    "# Read in Kaggle dataset\n",
    "netflix_all = pd.read_csv('All_Netflix/netflix_titles.csv')\n",
    "\n",
    "netflix_all = netflix_all[[\"title\", \"type\", \"director\", \"cast\", \"country\", \"release_year\", \"date_added\", \"rating\", \"listed_in\"]].copy()\n",
    "\n",
    "netflix_all = netflix_all.rename(columns={\"listed_in\": \"genre\",\n",
    "                                         \"rating\": \"viewer_rating\"})\n",
    "netflix_all.drop_duplicates(\"title\", inplace=True)\n",
    "\n",
    "# Read in Rotten Tomatoes CSV\n",
    "RT=pd.read_csv(\"Rottentomatoes/rottentomatoes.csv\")\n",
    "RT=RT[[\"title\", \"rating\"]].copy()\n",
    "\n",
    "# Read in IMDB CSV\n",
    "IMDB=pd.read_csv(\"IMDB/show.csv\")\n",
    "IMDB=IMDB[[\"title\", \"rating\"]].copy()\n",
    "\n",
    "# Merge the two dataframes\n",
    "merged = pd.merge(RT, IMDB, how=\"outer\")\n",
    "merged.drop_duplicates(\"title\", inplace=True)\n",
    "merged.to_csv(\"imdb_rtom.csv\", header=True)\n",
    "\n",
    "anotha_one=pd.merge(merged, netflix_all, on=\"title\", how=\"inner\")\n",
    "\n",
    "netflix_all=anotha_one[[\"title\", \"type\", \"director\", \"cast\", \"country\", \"release_year\", \"date_added\", \"viewer_rating\", \"genre\"]].copy()\n",
    "netflix_all.head()"
   ]
  },
  {
   "cell_type": "markdown",
   "metadata": {},
   "source": [
    "- Challenges:\n",
    "    - Scores are not consistent across websites\n",
    "    - Duplicates wouldn't drop"
   ]
  },
  {
   "cell_type": "markdown",
   "metadata": {},
   "source": [
    "# Load"
   ]
  },
  {
   "cell_type": "markdown",
   "metadata": {},
   "source": [
    "- Final database: Google Cloud Platform\n",
    "    - Left join to include ratings for all the titles\n",
    "    - Drop duplicates again\n",
    "    - API flask app\n",
    "\n",
    "\n",
    "- Tables/collections\n",
    "    - all_netflix_data: table with shows/movies available on netflix, including their directors, cast, country of origin, \n",
    "\n",
    "\n",
    "- Why this was chosen (what can be done with this database)\n",
    "\n",
    "\n",
    "- Challenges\n",
    "    - Tried union to merge IMDB + RT, but couldn’t create a new table “name”\n",
    "    - Ended up merging in python\n",
    "    - Api flask app struggles\n",
    "    - Specifically, class = Base.classes.class wouldn’t work (key error), decided to follow the homework and create a dictionary from a scrape function to serve on a flask site\n"
   ]
  },
  {
   "cell_type": "code",
   "execution_count": null,
   "metadata": {},
   "outputs": [],
   "source": []
  }
 ],
 "metadata": {
  "kernelspec": {
   "display_name": "Python 3",
   "language": "python",
   "name": "python3"
  },
  "language_info": {
   "codemirror_mode": {
    "name": "ipython",
    "version": 3
   },
   "file_extension": ".py",
   "mimetype": "text/x-python",
   "name": "python",
   "nbconvert_exporter": "python",
   "pygments_lexer": "ipython3",
   "version": "3.7.4"
  }
 },
 "nbformat": 4,
 "nbformat_minor": 2
}
